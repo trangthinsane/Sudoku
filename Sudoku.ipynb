{
 "cells": [
  {
   "cell_type": "code",
   "execution_count": null,
   "metadata": {},
   "outputs": [],
   "source": [
    "import numpy as np\n",
    "grid = [\n",
    "    [0,6,0,0,0,8,0,9,5],\n",
    "    [9,8,0,0,1,5,3,0,0],\n",
    "    [0,5,0,0,0,9,0,0,0],\n",
    "    [0,0,2,0,5,9,9,1,0],\n",
    "    [0,3,0,9,0,1,0,5,0],\n",
    "    [5,9,1,0,6,0,7,0,0],\n",
    "    [0,0,0,1,0,0,5,0,0],\n",
    "    [0,0,5,0,3,0,0,2,9],\n",
    "    [6,0,0,5,0,0,0,0,0]\n",
    "]\n",
    "print(np.matrix(grid))"
   ]
  },
  {
   "cell_type": "code",
   "execution_count": null,
   "metadata": {},
   "outputs": [],
   "source": [
    "def possible(y,x,n):\n",
    "    global grid\n",
    "    for i in range(0,9):\n",
    "        if grid[y][i] == n:     # check value n in a row\n",
    "            return False\n",
    "    for i in range(0,9):        # check value n in a column\n",
    "        if grid[i][x] == n:\n",
    "            return False\n",
    "    a = (x//3)*3                # check value n in a 3x3 box\n",
    "    b = (y//3)*3\n",
    "    for i in range(3):\n",
    "        for j in range(3):\n",
    "            if grid[b+i][a+j] == n:\n",
    "                return False\n",
    "    return True\n",
    "            "
   ]
  },
  {
   "cell_type": "code",
   "execution_count": null,
   "metadata": {},
   "outputs": [],
   "source": [
    "def solve():\n",
    "    global grid\n",
    "    for i in range (0,9):\n",
    "        for j in range(0,9):\n",
    "            if grid[i][j] == 0:        # 2. if grid[8][8] == 0 -> posible True -> value n -> solve() \n",
    "                for n in range(1,10):\n",
    "                    if possible(i,j,n):\n",
    "                        grid[i][j] = n\n",
    "                        solve()\n",
    "                        grid[i][j] = 0\n",
    "                return  # equals return \"\"    # 1. return nothing if no possible True (failed solution) -> back to the 2nd for loop (j)\n",
    "    print(np.matrix(grid))             # 3. last solve(): no grid[i][j] = 0 => print() \n",
    "    input(\"More?\")                   # TODO: why input() return another solution (if any)?????????\n",
    "    \n",
    "solve()\n",
    "        "
   ]
  }
